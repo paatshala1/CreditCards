{
 "cells": [
  {
   "cell_type": "markdown",
   "metadata": {},
   "source": [
    "#### MÓDULOS A IMPORTAR"
   ]
  },
  {
   "cell_type": "code",
   "execution_count": 1,
   "metadata": {},
   "outputs": [],
   "source": [
    "# Módulos para la conversión del pdf y la creación del DataFrame\n",
    "import datetime\n",
    "import os\n",
    "import PyPDF2 as pdf2\n",
    "import csv\n",
    "import pandas as pd\n",
    "import numpy as np\n",
    "#from functions.xmlReading import myxmlreader\n",
    "\n",
    "# Módulos para la lectura de liquidaciones\n",
    "from openpyxl import Workbook, load_workbook\n",
    "from openpyxl.utils.cell import coordinate_from_string, column_index_from_string\n",
    "\n",
    "# Módulos para el procesamiento de xml's\n",
    "import xmltodict as xml\n",
    "from lxml import etree\n",
    "\n",
    "import tkinter\n"
   ]
  },
  {
   "cell_type": "markdown",
   "metadata": {},
   "source": [
    "#### DEFINICIÓN DE FUNCIONES"
   ]
  },
  {
   "cell_type": "code",
   "execution_count": 2,
   "metadata": {},
   "outputs": [],
   "source": [
    "def detalle_gasto(File, RangeName):\n",
    "    wb = Workbook()\n",
    "    wb = load_workbook(filename=File, read_only=True, data_only=True)\n",
    "    ws = wb['Caratula']\n",
    "    \n",
    "    cardnumber = ws[rango_a_celda(wb, 'TARJETA')].value\n",
    "    \n",
    "    address = list(wb.defined_names[RangeName].destinations)\n",
    "    for sheetname, s_cell in address:\n",
    "        s_cell = s_cell.replace('$', '')\n",
    "    \n",
    "    e_cell = s_cell\n",
    "    s_col, s_row = coordinate_from_string(s_cell)\n",
    "    e_col = s_col\n",
    "    s_col = column_index_from_string(s_col)\n",
    "    e_row = s_row\n",
    "    \n",
    "    \n",
    "    cvx = wb[sheetname][e_cell].value\n",
    "    \n",
    "    while cvx != 'Total Liquidacion':\n",
    "        #print(x)\n",
    "        e_row += 1\n",
    "        e_cell = str(e_col) + str(e_row)\n",
    "        cvx = wb[sheetname][e_cell].value\n",
    "\n",
    "    e_col, e_row = coordinate_from_string(e_cell)\n",
    "    e_row -= 1\n",
    "    e_col = 9\n",
    "\n",
    "    detailed_range = tuple([s_row, s_col, e_row, e_col])\n",
    "    \n",
    "    temp_lst = []\n",
    "    for row in ws.iter_rows(min_row=s_row, min_col=s_col, max_row=e_row, max_col=e_col):\n",
    "        for cell in row:\n",
    "            temp_lst.append(cell.value)\n",
    "    \n",
    "    mydet = lineas_para_csv(temp_lst, (e_col-s_col+1))\n",
    "    \n",
    "    for n in range(len(mydet)):\n",
    "        del mydet[n][1:5]\n",
    "        \n",
    "    for c in range(len(mydet)):\n",
    "        mydet[c].insert(0, cardnumber)\n",
    "        if mydet[c][2] != None:\n",
    "            mydet[c].append('CRC')\n",
    "        elif mydet[c][3] != None:\n",
    "            mydet[c].append('USD')\n",
    "        else:\n",
    "            mydet[c].append(None)\n",
    "    \n",
    "    return mydet"
   ]
  },
  {
   "cell_type": "code",
   "execution_count": 3,
   "metadata": {},
   "outputs": [],
   "source": [
    "def rango_a_celda(WorkBook, Range_Name):\n",
    "    sheet_cell = list(WorkBook.defined_names[Range_Name].destinations)\n",
    "    for mysheetname, mycelladdress in sheet_cell:\n",
    "        mycelladdress = mycelladdress.replace('$', '')\n",
    "    return mycelladdress"
   ]
  },
  {
   "cell_type": "code",
   "execution_count": 4,
   "metadata": {},
   "outputs": [],
   "source": [
    "def rango_resumen(workbook, range_name, qrows, qcols):\n",
    "    address = list(workbook.defined_names[range_name].destinations)\n",
    "    for sheetname, celladdress in address:\n",
    "        celladdress = celladdress.replace('$', '')\n",
    "    s_col, s_row = coordinate_from_string(celladdress)\n",
    "    s_col = column_index_from_string(s_col)\n",
    "    e_row = s_row + (qrows - 1)\n",
    "    e_col = s_col + (qcols - 1)\n",
    "    my_range = tuple([s_row, s_col, e_row, e_col])\n",
    "    return my_range"
   ]
  },
  {
   "cell_type": "code",
   "execution_count": 5,
   "metadata": {},
   "outputs": [],
   "source": [
    "def lineas_para_csv(values_list, cols): #al ejecutarla le puedo pasar qty_cols\n",
    "    to_csv =[]\n",
    "    lst_size = len(values_list)\n",
    "    reps = lst_size//cols #Se divide por cols porque es la cantidad de columnas por registro\n",
    "    start_pos = 0\n",
    "    end_pos = cols\n",
    "    increment = cols\n",
    "    \n",
    "    for i in range(reps):\n",
    "        mini_lst = values_list[start_pos : end_pos]\n",
    "        to_csv.append(mini_lst)\n",
    "        start_pos += increment\n",
    "        end_pos += increment\n",
    "    return to_csv"
   ]
  },
  {
   "cell_type": "code",
   "execution_count": 6,
   "metadata": {},
   "outputs": [],
   "source": [
    "def leer_archivo(path_file):\n",
    "    wb = Workbook()\n",
    "    wb = load_workbook(filename=path_file,\n",
    "                         read_only=True,\n",
    "                         data_only=True)\n",
    "    # wbook.sheetnames\n",
    "    ws = wb['Caratula']\n",
    "    card = ws[rango_a_celda(wb, 'TARJETA')].value\n",
    "    crc = ws[rango_a_celda(wb, 'TCRC')].value\n",
    "    usd = ws[rango_a_celda(wb, 'TUSD')].value\n",
    "    totales = (card, crc, usd)\n",
    "    \n",
    "    #-----------------------------------------\n",
    "    #Detalle gastos\n",
    "    rr = rango_resumen(wb, 'RESUMEN', qty_rows, qty_cols)\n",
    "    expenses_lst = resumen_gastos(rr, ws)\n",
    "    #-----------------------------------------\n",
    "    \n",
    "    expenses = [totales, expenses_lst]\n",
    "    #del wbook\n",
    "        \n",
    "    return expenses\n",
    "    \n",
    "    #print(f'{c_file}:\\n {card}\\n crc: {crc}\\n usd: {usd}\\n')"
   ]
  },
  {
   "cell_type": "code",
   "execution_count": 7,
   "metadata": {},
   "outputs": [],
   "source": [
    "def resumen_gastos(Xlrange, Wsheet):\n",
    "    temp_lst = []\n",
    "    for row in Wsheet.iter_rows(min_row=Xlrange[0], min_col=Xlrange[1], max_row=Xlrange[2], max_col=Xlrange[3]):\n",
    "        for cell in row:\n",
    "            temp_lst.append(cell.value)\n",
    "    myexpenses = lineas_para_csv(temp_lst, qty_cols)\n",
    "    return myexpenses"
   ]
  },
  {
   "cell_type": "code",
   "execution_count": 8,
   "metadata": {},
   "outputs": [],
   "source": [
    "# Va acumulando los montos liquidados por tarjeta\n",
    "def sumar_liq(from_file, id_col, id_exp):\n",
    "    t_exp, d_exp = leer_archivo(from_file)\n",
    "    df.at[int(t_exp[0]), df.columns[id_col]] += float(t_exp[id_exp])  #Se referencia el nombre de la columna para prevenir cambios\n",
    "    df.at[int(t_exp[0]), df.columns[id_col + 1]] += float(t_exp[id_exp + 1])\n",
    "    return d_exp"
   ]
  },
  {
   "cell_type": "code",
   "execution_count": 9,
   "metadata": {},
   "outputs": [],
   "source": [
    "def validar_mes():\n",
    "    f_cwd = os.getcwd() + '\\\\' + os.listdir(path=root)[1] + '\\\\' + month\n",
    "    valid = os.path.exists(f_cwd)\n",
    "    return valid"
   ]
  },
  {
   "cell_type": "code",
   "execution_count": 10,
   "metadata": {},
   "outputs": [],
   "source": [
    "def extract_from_xml(my_file, doc_type):\n",
    "    tree = etree.parse(my_file)\n",
    "    #root = tree.getroot()\n",
    "    xml_str = etree.tostring(tree)\n",
    "    #data = xml.parse(xml_str, process_namespaces=True) #Esta línea procesa los namespaces...no es necesario para esto\n",
    "    global data\n",
    "    data = xml.parse(xml_str, dict_constructor=dict)\n",
    "    for t in doc_type:\n",
    "        if data.get(t) != None:\n",
    "            if invoices.get(data[t]['NumeroConsecutivo']) == None:\n",
    "                try:\n",
    "                    Consecutivo = data[t]['NumeroConsecutivo']\n",
    "                    Receptor = data[t]['Receptor']['Identificacion']['Numero']\n",
    "                    Moneda = data[t]['ResumenFactura']['CodigoTipoMoneda']['CodigoMoneda']\n",
    "                    Ventaneta = float(data[t]['ResumenFactura']['TotalVentaNeta'])\n",
    "                    Impuesto = float(data[t]['ResumenFactura']['TotalImpuesto'])\n",
    "                    Comprobante = float(data[t]['ResumenFactura']['TotalComprobante'])\n",
    "                    # Aquí se construye el diccionario de cada documento\n",
    "                    invoices[Consecutivo] = {'receptor' : Receptor,'moneda' : Moneda, 'ventaneta' : Ventaneta, 'impuesto' : Impuesto, 'comprobante' : Comprobante}\n",
    "                    #print(f'Read: {f} at {datetime.datetime.utcnow()}')\n",
    "                    read.append(f)\n",
    "                    break\n",
    "                except:\n",
    "                    #print(f'Inner unmatched: {f} at {datetime.datetime.utcnow()}')\n",
    "                    unmatched.append(f)\n",
    "                    pass\n",
    "            else:\n",
    "                #print(f'Repeated: {f} at {datetime.datetime.utcnow()}')\n",
    "                repeated.append(f)\n",
    "                break\n",
    "        else:\n",
    "            #print(f'Outter unmatched: {f} at {datetime.datetime.utcnow()}')\n",
    "            unmatched.append(f)\n",
    "            break\n"
   ]
  },
  {
   "cell_type": "code",
   "execution_count": 11,
   "metadata": {},
   "outputs": [],
   "source": [
    "def resultados_xml(fl, un, rep, re, iv):\n",
    "    print('\\n-- SUMARY --')\n",
    "    print(f'\\nFailed: {len(failed)}\\nUnmatched: {len(unmatched)}\\nRepeated:{len(repeated)}\\nRead: {len(read)}\\n')\n",
    "    \n",
    "    for i in fl:\n",
    "        print(f'Failed reading: {i}')\n",
    "\n",
    "    print(50 * '=' + '\\n')\n",
    "    for i in un:\n",
    "        print(f'Unmatched xml type: {i}')\n",
    "\n",
    "    print(50 * '=' + '\\n')\n",
    "    for i in rep:\n",
    "        print(f'Repeated xml docx: {i}')\n",
    "\n",
    "    print(50 * '=' + '\\n')\n",
    "    for i in re:\n",
    "        print(f'Succesfully read: {i}')\n",
    "\n",
    "    print(50 * '=' + '\\n')\n",
    "    print('Data extracted:\\n')\n",
    "    for i in iv.keys():\n",
    "        print(f'{i} : {invoices[i]}')\n",
    "        \n",
    "    #print(50 * '=' + '\\n')\n",
    "    #print('Invoices Detail:\\n')\n",
    "    #for i in invoices:\n",
    "    #    print(i)\n"
   ]
  },
  {
   "cell_type": "code",
   "execution_count": 12,
   "metadata": {},
   "outputs": [],
   "source": [
    "def gasto_validado(liq_monto, xml_monto, liq_moneda, xml_moneda):\n",
    "    try:\n",
    "        if (liq_moneda == xml_moneda) & (abs(liq_monto - xml_monto) < 1):\n",
    "            return True\n",
    "        else:\n",
    "            return False\n",
    "    except:\n",
    "        print(f'Invoice not found')\n",
    "        return False"
   ]
  },
  {
   "cell_type": "code",
   "execution_count": 13,
   "metadata": {},
   "outputs": [],
   "source": [
    "def closewindow():\n",
    "    ventana.destroy()"
   ]
  },
  {
   "cell_type": "code",
   "execution_count": null,
   "metadata": {
    "collapsed": true,
    "jupyter": {
     "outputs_hidden": true
    }
   },
   "outputs": [],
   "source": []
  },
  {
   "cell_type": "markdown",
   "metadata": {},
   "source": [
    "#### ASIGNACIONES INICIALES"
   ]
  },
  {
   "cell_type": "code",
   "execution_count": 14,
   "metadata": {},
   "outputs": [],
   "source": [
    "#pd.set_option('display.precision', 2)"
   ]
  },
  {
   "cell_type": "code",
   "execution_count": 15,
   "metadata": {},
   "outputs": [],
   "source": [
    "cwd = os.getcwd()"
   ]
  },
  {
   "cell_type": "code",
   "execution_count": 16,
   "metadata": {},
   "outputs": [],
   "source": [
    "cwd_file = cwd + '\\\\EstadoCuentaConsolidadoNaret.pdf'"
   ]
  },
  {
   "cell_type": "code",
   "execution_count": 17,
   "metadata": {},
   "outputs": [],
   "source": [
    "savingfolder = '\\\\CreatedFiles'\n",
    "savingfolder = cwd + savingfolder"
   ]
  },
  {
   "cell_type": "code",
   "execution_count": 18,
   "metadata": {},
   "outputs": [],
   "source": [
    "root = cwd + '\\\\'\n",
    "#root"
   ]
  },
  {
   "cell_type": "markdown",
   "metadata": {},
   "source": [
    "##### TENER PRESENTE CUÁL SERÁ LA EXTENSIÓN DE LOS ARCHIVOS A USAR"
   ]
  },
  {
   "cell_type": "code",
   "execution_count": 19,
   "metadata": {},
   "outputs": [],
   "source": [
    "file_name = '\\\\LiquidacionTarjeta.xlsm'"
   ]
  },
  {
   "cell_type": "markdown",
   "metadata": {},
   "source": [
    "##### EJECUCIÓN"
   ]
  },
  {
   "cell_type": "code",
   "execution_count": 20,
   "metadata": {},
   "outputs": [
    {
     "name": "stdin",
     "output_type": "stream",
     "text": [
      "Ingrese mes y año \"Mmmm yyyy\":  julio 2020\n"
     ]
    }
   ],
   "source": [
    "valid = False\n",
    "while valid == False:\n",
    "    month = str(input('Ingrese mes y año \"Mmmm yyyy\": '))\n",
    "    month = month.title()\n",
    "    valid = validar_mes()\n"
   ]
  },
  {
   "cell_type": "markdown",
   "metadata": {},
   "source": [
    "##### Conversión del pdf y creación del DataFrame"
   ]
  },
  {
   "cell_type": "code",
   "execution_count": 21,
   "metadata": {},
   "outputs": [],
   "source": [
    "if os.path.exists(savingfolder) == False:\n",
    "    os.mkdir(savingfolder)"
   ]
  },
  {
   "cell_type": "code",
   "execution_count": 22,
   "metadata": {},
   "outputs": [],
   "source": [
    "#savingfolder = cwd + savingfolder  "
   ]
  },
  {
   "cell_type": "code",
   "execution_count": 23,
   "metadata": {},
   "outputs": [],
   "source": [
    "f = open(cwd_file, 'rb')"
   ]
  },
  {
   "cell_type": "code",
   "execution_count": 24,
   "metadata": {},
   "outputs": [],
   "source": [
    "newpdf = pdf2.PdfFileReader(f)"
   ]
  },
  {
   "cell_type": "code",
   "execution_count": 25,
   "metadata": {},
   "outputs": [],
   "source": [
    "pages = newpdf.numPages"
   ]
  },
  {
   "cell_type": "code",
   "execution_count": 26,
   "metadata": {},
   "outputs": [],
   "source": [
    "txt = str()"
   ]
  },
  {
   "cell_type": "code",
   "execution_count": 27,
   "metadata": {},
   "outputs": [],
   "source": [
    "for i in range(pages):\n",
    "    txt = txt + newpdf.getPage(i).extractText()"
   ]
  },
  {
   "cell_type": "code",
   "execution_count": 28,
   "metadata": {},
   "outputs": [],
   "source": [
    "cleaned = txt"
   ]
  },
  {
   "cell_type": "code",
   "execution_count": 29,
   "metadata": {},
   "outputs": [],
   "source": [
    "clean_a = cleaned.find('Total en consumos')"
   ]
  },
  {
   "cell_type": "code",
   "execution_count": 30,
   "metadata": {},
   "outputs": [],
   "source": [
    "cleaned = cleaned[ : clean_a]"
   ]
  },
  {
   "cell_type": "code",
   "execution_count": 31,
   "metadata": {},
   "outputs": [],
   "source": [
    "clean_bx = cleaned.find('\\nConsolidado - ')"
   ]
  },
  {
   "cell_type": "code",
   "execution_count": 32,
   "metadata": {},
   "outputs": [],
   "source": [
    "clean_by = cleaned.find('\\n', clean_bx+1)\n",
    "clean_by = cleaned.find('\\n', clean_by+1)\n",
    "clean_by += 1"
   ]
  },
  {
   "cell_type": "code",
   "execution_count": 33,
   "metadata": {},
   "outputs": [],
   "source": [
    "clean_b = cleaned[clean_bx : clean_by]"
   ]
  },
  {
   "cell_type": "code",
   "execution_count": 34,
   "metadata": {},
   "outputs": [],
   "source": [
    "toclean = ['\\nCuenta: 4116110005410\\n', clean_b]\n",
    "for i in toclean:\n",
    "    cleaned = cleaned.replace(i, '')"
   ]
  },
  {
   "cell_type": "code",
   "execution_count": 35,
   "metadata": {},
   "outputs": [],
   "source": [
    "cleaned = cleaned.replace('\\nColones\\n\\n', '\\nColones\\nDolares\\n')\n",
    "cleaned = cleaned.replace('\\n', ';')\n",
    "cleaned = cleaned.replace(',', '')"
   ]
  },
  {
   "cell_type": "code",
   "execution_count": 36,
   "metadata": {},
   "outputs": [],
   "source": [
    "lst_cleaned = cleaned.split(';')"
   ]
  },
  {
   "cell_type": "code",
   "execution_count": 37,
   "metadata": {},
   "outputs": [],
   "source": [
    "final_lst = lineas_para_csv(lst_cleaned, 4)"
   ]
  },
  {
   "cell_type": "code",
   "execution_count": 38,
   "metadata": {},
   "outputs": [],
   "source": [
    "# PARA VER LA LISTA FINAL CON QUE SE CONSTRUIRÁ EL CSV\n",
    "#final_lst"
   ]
  },
  {
   "cell_type": "code",
   "execution_count": 39,
   "metadata": {},
   "outputs": [],
   "source": [
    "with open(savingfolder + '\\\\CorteTarjetas.csv', 'w') as file:\n",
    "    writer = csv.writer(file)\n",
    "    for i in final_lst:\n",
    "        writer.writerow(i)\n"
   ]
  },
  {
   "cell_type": "code",
   "execution_count": 40,
   "metadata": {},
   "outputs": [],
   "source": [
    "df = pd.read_csv(savingfolder + '\\\\CorteTarjetas.csv')"
   ]
  },
  {
   "cell_type": "code",
   "execution_count": 41,
   "metadata": {},
   "outputs": [],
   "source": [
    "os.remove(savingfolder + '\\\\CorteTarjetas.csv')"
   ]
  },
  {
   "cell_type": "code",
   "execution_count": 42,
   "metadata": {},
   "outputs": [],
   "source": [
    "df['Colones'] = df['Colones'].astype('float')\n",
    "\n",
    "df['Dolares'] = df['Dolares'].astype('float')\n",
    "\n",
    "df['Tarjeta'] = df['Tarjeta'].astype('object')"
   ]
  },
  {
   "cell_type": "code",
   "execution_count": 43,
   "metadata": {},
   "outputs": [],
   "source": [
    "df.rename(columns = {'Colones' : 'Corte_Colones', 'Dolares' : 'Corte_Dolares'}, inplace=True)"
   ]
  },
  {
   "cell_type": "code",
   "execution_count": 44,
   "metadata": {},
   "outputs": [],
   "source": [
    "df.set_index('Tarjeta', inplace=True)"
   ]
  },
  {
   "cell_type": "code",
   "execution_count": 45,
   "metadata": {},
   "outputs": [],
   "source": [
    "df['Liq_Colones'] = 0\n",
    "df['Liq_Colones'] = df['Liq_Colones'].astype('float')"
   ]
  },
  {
   "cell_type": "code",
   "execution_count": 46,
   "metadata": {},
   "outputs": [],
   "source": [
    "df['Liq_Dolares'] = 0\n",
    "df['Liq_Dolares'] = df['Liq_Dolares'].astype('float')"
   ]
  },
  {
   "cell_type": "code",
   "execution_count": 47,
   "metadata": {},
   "outputs": [],
   "source": [
    "cc = df['Corte_Colones'].sum()\n",
    "cd = df['Corte_Dolares'].sum()"
   ]
  },
  {
   "cell_type": "code",
   "execution_count": 48,
   "metadata": {},
   "outputs": [
    {
     "name": "stdout",
     "output_type": "stream",
     "text": [
      "- - - CREDIT CARD STATEMENT HAS BEEN COMPLETED - - -\n"
     ]
    }
   ],
   "source": [
    "print('- - - CREDIT CARD STATEMENT HAS BEEN COMPLETED - - -')"
   ]
  },
  {
   "cell_type": "markdown",
   "metadata": {},
   "source": [
    "## AQUI INICA LA LECTURA DE LAS LIQUIDACIONES"
   ]
  },
  {
   "cell_type": "code",
   "execution_count": 49,
   "metadata": {},
   "outputs": [
    {
     "name": "stdout",
     "output_type": "stream",
     "text": [
      "- - - STARTING EXPENSES' REPORTS READING - - -\n"
     ]
    }
   ],
   "source": [
    "print(\"- - - STARTING EXPENSES' REPORTS READING - - -\")"
   ]
  },
  {
   "cell_type": "code",
   "execution_count": 50,
   "metadata": {},
   "outputs": [],
   "source": [
    "#print('Dimensiones del rango del resumen\\n')\n",
    "qty_rows = 10\n",
    "qty_cols = 3\n",
    "#qty_rows = int(input('Filas: '))\n",
    "#qty_cols = int(input('Columnas: '))\n",
    "#print(f'{qty_rows} filas x {qty_cols} columnas')"
   ]
  },
  {
   "cell_type": "code",
   "execution_count": 51,
   "metadata": {},
   "outputs": [],
   "source": [
    "path2 = '\\\\' + month + '\\\\Gastos tarjeta de credito\\\\'\n",
    "#path2"
   ]
  },
  {
   "cell_type": "code",
   "execution_count": 52,
   "metadata": {},
   "outputs": [],
   "source": [
    "# Lista de condominios\n",
    "condos = os.listdir(path=root)\n",
    "#condos"
   ]
  },
  {
   "cell_type": "markdown",
   "metadata": {},
   "source": [
    "## Tener presente que en producción esta carpeta no debería tener nada más que carpetas de condominios"
   ]
  },
  {
   "cell_type": "code",
   "execution_count": 53,
   "metadata": {},
   "outputs": [],
   "source": [
    "groups_path = root + condos[1] + path2\n",
    "#groups_path"
   ]
  },
  {
   "cell_type": "code",
   "execution_count": 54,
   "metadata": {},
   "outputs": [],
   "source": [
    "groups = os.listdir(path=groups_path)\n",
    "#groups"
   ]
  },
  {
   "cell_type": "code",
   "execution_count": 55,
   "metadata": {},
   "outputs": [],
   "source": [
    "people_path = root + 'NARET'\n",
    "#people_path"
   ]
  },
  {
   "cell_type": "code",
   "execution_count": 56,
   "metadata": {},
   "outputs": [],
   "source": [
    "people = os.listdir(path=people_path)\n",
    "#people"
   ]
  },
  {
   "cell_type": "code",
   "execution_count": 57,
   "metadata": {},
   "outputs": [],
   "source": [
    "det_lst = []"
   ]
  },
  {
   "cell_type": "code",
   "execution_count": 58,
   "metadata": {},
   "outputs": [],
   "source": [
    "invoices = dict()\n",
    "failed = list()\n",
    "unmatched = list()\n",
    "read = list()\n",
    "repeated = list()\n",
    "doctype = tuple(['FacturaElectronica', 'TiqueteElectronico'])\n",
    "inv_liq = []\n",
    "prev_inv_liq = []"
   ]
  },
  {
   "cell_type": "code",
   "execution_count": 59,
   "metadata": {},
   "outputs": [],
   "source": [
    "for c in condos:\n",
    "    if c != 'NARET':\n",
    "        midpath = root + c + path2\n",
    "        for g in groups:\n",
    "            fullpath = midpath + g\n",
    "            c_file = fullpath + file_name\n",
    "            try:\n",
    "                v = sumar_liq(c_file, 3, 1)\n",
    "                det_lst.append(v)\n",
    "                #print(f'a) {v}')\n",
    "                #inv_liq.append(detalle_gasto(c_file, 'DETALLE'))\n",
    "            except:\n",
    "                #print(f'a) Error reading {c_file}\\n')\n",
    "                pass\n",
    "\n",
    "            if g == groups[0]:\n",
    "                asst_path = fullpath + '\\\\Asistente'\n",
    "                #print(asst_path)\n",
    "                if os.path.exists(asst_path):\n",
    "                    c_file = asst_path + file_name\n",
    "                    try:\n",
    "                        v = sumar_liq(c_file, 3, 1)\n",
    "                        det_lst.append(v)\n",
    "                        #print(f'Lectura y actualización de archivo de Asistente de {c} correcta \\n')\n",
    "                        #inv_liq.append(detalle_gasto(c_file, 'DETALLE'))\n",
    "                    except:\n",
    "                        pass\n",
    "                        #print(f'No se puedo leer archivo de Asistente {c}\\n')\n",
    "                #else:\n",
    "                #    print(f'Invalid path: {asst_path}\\n')\n",
    "\n",
    "    else:\n",
    "        midpath = root + 'NARET\\\\'\n",
    "        for p in people:\n",
    "            fullpath = midpath + p + '\\\\' + month + '\\\\Gastos tarjeta de credito'\n",
    "            if os.path.isdir(fullpath):\n",
    "                inv_lst = os.listdir(fullpath)\n",
    "                #print(f'Actual inv_lst {inv_lst}')\n",
    "                for f in inv_lst:\n",
    "                    try:\n",
    "                        myxmlfile = fullpath + '\\\\' + f\n",
    "                        extract_from_xml(myxmlfile, doctype)\n",
    "                    except:\n",
    "                        #print(f'Failed: {f} at {datetime.datetime.utcnow()}')\n",
    "                        failed.append(f)\n",
    "                c_file = fullpath + file_name\n",
    "                try:\n",
    "                    v = sumar_liq(c_file, 3, 1)\n",
    "                    det_lst.append(v)\n",
    "                    #print(f'b) {v}')\n",
    "                    print(f'Se agregará un detalle por facturas a la lista')\n",
    "                    prev_inv_liq.append(detalle_gasto(c_file, 'DETALLE'))\n",
    "                except:\n",
    "                    #print(f'b) Error reading {c_file}\\n')\n",
    "                    pass\n",
    "            \n",
    "        \n",
    "        # PUNTO DE CONTROL: Imprime las rutas y los archivos en cada ruta\n",
    "        # print('\\n', fullpath)\n",
    "        # print('\\n', fullpath, '\\n', '\\t', os.listdir(fullpath),'\\n')"
   ]
  },
  {
   "cell_type": "code",
   "execution_count": 60,
   "metadata": {},
   "outputs": [],
   "source": [
    "df['Dif_Colones'] = df['Liq_Colones'] - df['Corte_Colones']\n",
    "df['Dif_Dolares'] = df['Liq_Dolares'] - df['Corte_Dolares']"
   ]
  },
  {
   "cell_type": "markdown",
   "metadata": {},
   "source": [
    "##### Finalmente, guardar toda la información en Excel y eliminar archivos temporales"
   ]
  },
  {
   "cell_type": "code",
   "execution_count": 61,
   "metadata": {},
   "outputs": [],
   "source": [
    "df.to_csv(savingfolder + '\\\\ConsumosTarjetas.csv')"
   ]
  },
  {
   "cell_type": "code",
   "execution_count": 62,
   "metadata": {},
   "outputs": [],
   "source": [
    "# Una opción de to_csv si la configuración de la máquina tiene coma como decimal\n",
    "df.to_csv(savingfolder + '\\\\ConsumosTarjetas_comas.csv', sep=';', decimal=',')"
   ]
  },
  {
   "cell_type": "code",
   "execution_count": 63,
   "metadata": {},
   "outputs": [
    {
     "name": "stdout",
     "output_type": "stream",
     "text": [
      "                           Beneficiario  Corte_Colones  Corte_Dolares  \\\n",
      "Tarjeta                                                                 \n",
      "4116110005410089   ANTHONY MADRIZ BEITA      678262.22           0.00   \n",
      "4116110005410147      ISIDRO ALARCON S.      426399.58           0.00   \n",
      "4116110005410154      JOHAN ARGUEDAS R.       18405.00           0.00   \n",
      "4116110005410188   JOSE AGUERO GONZALEZ      799970.97           0.00   \n",
      "4116110005410204         JULIAN VEGA V.       44195.00           0.00   \n",
      "4116110005410212    KENNY HAGES EDWARDS         420.00           0.00   \n",
      "4116110005410220  LUIS AGUILAR BOGANTES       56063.00           0.00   \n",
      "4116110005410238    LUIS SEGURA RAMIREZ      498993.26           0.00   \n",
      "4116110005410295       JOSE MURRAY DIAZ      635810.79           1.13   \n",
      "4116110005410311      FABRICIO GOMEZ C.           0.00          11.30   \n",
      "4116110005410329      DIEGO ROJAS CALVO     1064854.69           0.00   \n",
      "4116110005410378      ANA MOLINA BRENES         840.00           0.00   \n",
      "4116110005410402   ERICK MURILLO QUIROS      748406.62           0.00   \n",
      "4116110005410428    LUIS SEGURA ALVAREZ      288006.98         260.69   \n",
      "4116110005410444  ALVARO CORDOBA MOLINA      186057.52           0.00   \n",
      "4116110005410493    JOSE SAENZ CORRALES      807262.89           0.00   \n",
      "4116110005410543       JOSE MORA CHACON     1269659.78           0.00   \n",
      "4116110005410550   NANCY ORTEGA CORDERO      113155.73           0.00   \n",
      "4116110055280077   CARLOS RAMIREZ CALVO      553058.00           0.00   \n",
      "4116110055280127       ALFONSO THOMPSON      497250.20           0.00   \n",
      "4116110055280150     JOSE CHACON MORERA       20695.00           0.00   \n",
      "4116110055280168   JOSE LUIS FONSECA B.        3780.00           0.00   \n",
      "4116110055280184   ALEXANDER SALAS COTO       32421.00           0.00   \n",
      "4116110055280259        EMANUEL DELGADO      258429.36           0.00   \n",
      "4116110055280317  GUSTAVO CHINCHILLA C.      351818.00          50.73   \n",
      "4116110055280325    STEPHANNIE SOTO LEE      939922.82           0.00   \n",
      "4116110055280341         BAYRON GUILLEN      185706.50           0.00   \n",
      "4116110055280366  WENDY URBINA GUADAMUZ      194484.00           0.00   \n",
      "4116110055280374  WENDY GUTIERREZ ARAYA      289903.51           0.00   \n",
      "4116110055280432  GRETTEL VILLALOBOS R.      288040.00           2.99   \n",
      "4116110055280440        YEIMER GONZALEZ       63610.02           0.00   \n",
      "4116110055280457      MANFRED LIZANO R.      499088.00           0.00   \n",
      "4116110055280473      STEACE VEGA MARIN       15500.00         162.12   \n",
      "4116110055280499    JOSE PICADO GODINEZ      325618.00          68.53   \n",
      "4116110055280515    ADRIAN RODRIGUEZ V.       48165.00           0.00   \n",
      "4116110055280523     RICARDO RAMIREZ M.      955993.31           0.00   \n",
      "4116110055280531       KEYLOR MOLINA C.       95246.00           0.00   \n",
      "4116110055280556      MARIANO LOAIZA D.      133946.27           0.00   \n",
      "4116110055280564  STHEPHANIE MORA GOMEZ      767287.39           0.00   \n",
      "4116110055280572  OSVALDO MANZANARES C.       55920.00           0.00   \n",
      "4116110055280580     YULIANA VILALLOBOS       74475.00           0.00   \n",
      "4116110055280598    MARVIN RODRIGUEZ S.      356062.67           0.00   \n",
      "4116110055280606     RICARDO MONTIEL E.      272082.50           0.00   \n",
      "4116110055280614  DIEGO HENRIQUEZ UMANA      885318.49           0.00   \n",
      "4116110055280622  GEOVANNY SANCHEZ RUIZ      181100.00           0.00   \n",
      "4116110055280630  ADRIANA BRENES ANGULO      275041.38           0.00   \n",
      "4116110055280648    MARIO VALERIO UMANA      673320.26           0.00   \n",
      "\n",
      "                  Liq_Colones  Liq_Dolares  Dif_Colones  Dif_Dolares  \n",
      "Tarjeta                                                               \n",
      "4116110005410089   1887040.13      610.750   1208777.91      610.750  \n",
      "4116110005410147     18760.21        0.900   -407639.37        0.900  \n",
      "4116110005410154     15527.00      217.525     -2878.00      217.525  \n",
      "4116110005410188         0.00        0.000   -799970.97        0.000  \n",
      "4116110005410204    164077.12      127.750    119882.12      127.750  \n",
      "4116110005410212         0.00        0.000      -420.00        0.000  \n",
      "4116110005410220         0.00        0.000    -56063.00        0.000  \n",
      "4116110005410238         0.00        0.000   -498993.26        0.000  \n",
      "4116110005410295         0.00        0.000   -635810.79       -1.130  \n",
      "4116110005410311         0.00        0.000         0.00      -11.300  \n",
      "4116110005410329         0.00        0.000  -1064854.69        0.000  \n",
      "4116110005410378         0.00        0.000      -840.00        0.000  \n",
      "4116110005410402         0.00        0.000   -748406.62        0.000  \n",
      "4116110005410428         0.00        0.000   -288006.98     -260.690  \n",
      "4116110005410444         0.00        0.000   -186057.52        0.000  \n",
      "4116110005410493         0.00        0.000   -807262.89        0.000  \n",
      "4116110005410543         0.00        0.000  -1269659.78        0.000  \n",
      "4116110005410550         0.00        0.000   -113155.73        0.000  \n",
      "4116110055280077         0.00        0.000   -553058.00        0.000  \n",
      "4116110055280127         0.00        0.000   -497250.20        0.000  \n",
      "4116110055280150         0.00        0.000    -20695.00        0.000  \n",
      "4116110055280168         0.00        0.000     -3780.00        0.000  \n",
      "4116110055280184         0.00        0.000    -32421.00        0.000  \n",
      "4116110055280259         0.00        0.000   -258429.36        0.000  \n",
      "4116110055280317         0.00        0.000   -351818.00      -50.730  \n",
      "4116110055280325         0.00        0.000   -939922.82        0.000  \n",
      "4116110055280341         0.00        0.000   -185706.50        0.000  \n",
      "4116110055280366         0.00        0.000   -194484.00        0.000  \n",
      "4116110055280374         0.00        0.000   -289903.51        0.000  \n",
      "4116110055280432         0.00        0.000   -288040.00       -2.990  \n",
      "4116110055280440         0.00        0.000    -63610.02        0.000  \n",
      "4116110055280457         0.00        0.000   -499088.00        0.000  \n",
      "4116110055280473         0.00        0.000    -15500.00     -162.120  \n",
      "4116110055280499         0.00        0.000   -325618.00      -68.530  \n",
      "4116110055280515         0.00        0.000    -48165.00        0.000  \n",
      "4116110055280523         0.00        0.000   -955993.31        0.000  \n",
      "4116110055280531         0.00        0.000    -95246.00        0.000  \n",
      "4116110055280556         0.00        0.000   -133946.27        0.000  \n",
      "4116110055280564         0.00        0.000   -767287.39        0.000  \n",
      "4116110055280572         0.00        0.000    -55920.00        0.000  \n",
      "4116110055280580         0.00        0.000    -74475.00        0.000  \n",
      "4116110055280598         0.00        0.000   -356062.67        0.000  \n",
      "4116110055280606         0.00        0.000   -272082.50        0.000  \n",
      "4116110055280614         0.00        0.000   -885318.49        0.000  \n",
      "4116110055280622         0.00        0.000   -181100.00        0.000  \n",
      "4116110055280630         0.00        0.000   -275041.38        0.000  \n",
      "4116110055280648   1222822.99       11.980    549502.73       11.980  \n"
     ]
    }
   ],
   "source": [
    "print(df)"
   ]
  },
  {
   "cell_type": "code",
   "execution_count": 64,
   "metadata": {},
   "outputs": [],
   "source": [
    "lc = df['Liq_Colones'].sum()\n",
    "ld = df['Liq_Dolares'].sum()"
   ]
  },
  {
   "cell_type": "code",
   "execution_count": 65,
   "metadata": {},
   "outputs": [],
   "source": [
    "#Aquí estaba la impresión de los totales de liquidaciones"
   ]
  },
  {
   "cell_type": "code",
   "execution_count": 66,
   "metadata": {},
   "outputs": [],
   "source": [
    "#det_lst"
   ]
  },
  {
   "cell_type": "markdown",
   "metadata": {},
   "source": [
    "#### CONSTRUIR CSV Y DATAFRAME CON EL DETALLE DE TODAS LAS CUENTAS DE GASTO"
   ]
  },
  {
   "cell_type": "code",
   "execution_count": 67,
   "metadata": {},
   "outputs": [
    {
     "name": "stdout",
     "output_type": "stream",
     "text": [
      "INICIANDO CONSTRUCCION DE DATA FRAME GENERAL COMPARATIVO POR TARJETAS\n"
     ]
    }
   ],
   "source": [
    "print('INICIANDO CONSTRUCCION DE DATA FRAME GENERAL COMPARATIVO POR TARJETAS')"
   ]
  },
  {
   "cell_type": "code",
   "execution_count": 68,
   "metadata": {},
   "outputs": [],
   "source": [
    "with open(savingfolder + '\\\\DetalleGastos.csv', 'w') as exp_file:\n",
    "    writer = csv.writer(exp_file)\n",
    "    for liq in det_lst:\n",
    "        for line in liq:\n",
    "            writer.writerow(line)\n"
   ]
  },
  {
   "cell_type": "code",
   "execution_count": 69,
   "metadata": {},
   "outputs": [],
   "source": [
    "df_det = pd.read_csv(savingfolder + '\\\\DetalleGastos.csv')"
   ]
  },
  {
   "cell_type": "code",
   "execution_count": 70,
   "metadata": {},
   "outputs": [],
   "source": [
    "os.remove(savingfolder + '\\\\DetalleGastos.csv')"
   ]
  },
  {
   "cell_type": "code",
   "execution_count": 71,
   "metadata": {},
   "outputs": [
    {
     "name": "stdout",
     "output_type": "stream",
     "text": [
      "- - - EXPENSES' REPORTS READING HAS BEEN COMPLETED - - -\n"
     ]
    }
   ],
   "source": [
    "print(\"- - - EXPENSES' REPORTS READING HAS BEEN COMPLETED - - -\")"
   ]
  },
  {
   "cell_type": "code",
   "execution_count": 72,
   "metadata": {},
   "outputs": [],
   "source": [
    "df_det.columns = ['Cuenta', 'Gasto_Colones', 'Gasto_Dolares']"
   ]
  },
  {
   "cell_type": "code",
   "execution_count": 73,
   "metadata": {},
   "outputs": [],
   "source": [
    "df_det['valid'] = df_det['Gasto_Colones'] + df_det['Gasto_Dolares']"
   ]
  },
  {
   "cell_type": "code",
   "execution_count": 74,
   "metadata": {},
   "outputs": [],
   "source": [
    "#df_det"
   ]
  },
  {
   "cell_type": "code",
   "execution_count": 75,
   "metadata": {},
   "outputs": [],
   "source": [
    "filt = df_det['valid'] > 0"
   ]
  },
  {
   "cell_type": "code",
   "execution_count": 76,
   "metadata": {},
   "outputs": [],
   "source": [
    "df_det = df_det.loc[filt]"
   ]
  },
  {
   "cell_type": "code",
   "execution_count": 77,
   "metadata": {},
   "outputs": [],
   "source": [
    "df_det.reset_index(drop=True, inplace=True)"
   ]
  },
  {
   "cell_type": "code",
   "execution_count": 78,
   "metadata": {},
   "outputs": [],
   "source": [
    "del df_det['valid']"
   ]
  },
  {
   "cell_type": "code",
   "execution_count": 79,
   "metadata": {},
   "outputs": [],
   "source": [
    "dc = df_det['Gasto_Colones'].sum()\n",
    "dd = df_det['Gasto_Dolares'].sum()"
   ]
  },
  {
   "cell_type": "code",
   "execution_count": 80,
   "metadata": {},
   "outputs": [
    {
     "name": "stdout",
     "output_type": "stream",
     "text": [
      "Totales según estado de cuenta\n",
      "\tColones: 16930046.71\n",
      "\tDolares: 557.49\n"
     ]
    }
   ],
   "source": [
    "print(f'Totales según estado de cuenta\\n\\tColones: {cc}\\n\\tDolares: {cd}')"
   ]
  },
  {
   "cell_type": "code",
   "execution_count": 81,
   "metadata": {},
   "outputs": [
    {
     "name": "stdout",
     "output_type": "stream",
     "text": [
      "Totales generales de liquidaciones procesadas\n",
      "\tColones: 3308227.45\n",
      "\tDolares: 968.905\n"
     ]
    }
   ],
   "source": [
    "print(f'Totales generales de liquidaciones procesadas\\n\\tColones: {dc}\\n\\tDolares: {dd}')"
   ]
  },
  {
   "cell_type": "code",
   "execution_count": 82,
   "metadata": {},
   "outputs": [],
   "source": [
    "# La intención de esto era mostrar el total de las facturas 1 a 1\n",
    "#print(f'Totales detallados de liquidaciones procesadas\\n\\tColones: {dc}\\n\\tDolares: {dd}')"
   ]
  },
  {
   "cell_type": "code",
   "execution_count": 83,
   "metadata": {},
   "outputs": [],
   "source": [
    "df_det.to_excel(savingfolder + '\\\\GastosDetalladosPorCuenta.xlsx')"
   ]
  },
  {
   "cell_type": "code",
   "execution_count": 84,
   "metadata": {},
   "outputs": [
    {
     "name": "stdout",
     "output_type": "stream",
     "text": [
      "- - - CREDIT CARD AND EXPENSES' REPORTS SUCCESSFULLY PROCESSED - - -\n"
     ]
    }
   ],
   "source": [
    "print(\"- - - CREDIT CARD AND EXPENSES' REPORTS SUCCESSFULLY PROCESSED - - -\")"
   ]
  },
  {
   "cell_type": "markdown",
   "metadata": {},
   "source": [
    "#### ACÁ SE CORRE EL CÓDIGO DE LECTURA DE XML's"
   ]
  },
  {
   "cell_type": "code",
   "execution_count": 85,
   "metadata": {},
   "outputs": [
    {
     "name": "stdout",
     "output_type": "stream",
     "text": [
      "\n",
      "-- SUMARY --\n",
      "\n",
      "Failed: 12\n",
      "Unmatched: 0\n",
      "Repeated:2\n",
      "Read: 10\n",
      "\n",
      "Failed reading: 2DEC8100\n",
      "Failed reading: 8B602000\n",
      "Failed reading: B8CC5000\n",
      "Failed reading: DF443000\n",
      "Failed reading: LiquidacionTarjeta.xlsm\n",
      "Failed reading: LiquidacionTarjeta.xlsm\n",
      "Failed reading: 0A23C000\n",
      "Failed reading: 6AF3B000\n",
      "Failed reading: 79C7D000\n",
      "Failed reading: 8DA91000\n",
      "Failed reading: LiquidacionTarjeta.xlsm\n",
      "Failed reading: LiquidacionTarjeta_b.xlsm\n",
      "==================================================\n",
      "\n",
      "==================================================\n",
      "\n",
      "Repeated xml docx: Factura_XML_3101143188_3101703823_00100001010000205641.xml\n",
      "Repeated xml docx: 50604072000011013026500100006010000000055101002301_SF.xml\n",
      "==================================================\n",
      "\n",
      "Succesfully read: 10-F-1030161837-1029627251.xml\n",
      "Succesfully read: 50609072000011013026500100006010000000069101002128_SF - MODIF.xml\n",
      "Succesfully read: Factura_XML_3101143188_3101703823_00100001010000205641 - REPETIDO.xml\n",
      "Succesfully read: FE_50601062000310161019800100024010010275938200000000.xml\n",
      "Succesfully read: T1_C50604082000310100975800203001010000083858100099537_E3101009758_R3101703823_F20200804.xml\n",
      "Succesfully read: 50604072000011013026500100006010000000055101002301_SF - REPETIDO.xml\n",
      "Succesfully read: ejemplo_FacturaElectronica_Imp2p.xml\n",
      "Succesfully read: FE-50602082000310169916300100001010000001497123006012.xml\n",
      "Succesfully read: FE-50602082000310169916300100001010000001498111019089.xml\n",
      "Succesfully read: FE-50602082000310169916300100001010000001500191151652.xml\n",
      "==================================================\n",
      "\n",
      "Data extracted:\n",
      "\n",
      "00300003010000094035 : {'receptor': '3101703823', 'moneda': 'USD', 'ventaneta': 240.0, 'impuesto': 31.2, 'comprobante': 273.0}\n",
      "00100006010000000079 : {'receptor': '987654321', 'moneda': 'CRC', 'ventaneta': 1528150.0, 'impuesto': 0.0, 'comprobante': 1528150.0}\n",
      "00100001010000205641 : {'receptor': '3101703823', 'moneda': 'CRC', 'ventaneta': 34793.21, 'impuesto': 4523.12, 'comprobante': 39316.33}\n",
      "00100024010010275938 : {'receptor': '3101089926', 'moneda': 'CRC', 'ventaneta': 147035.57, 'impuesto': 19114.65, 'comprobante': 168722.88}\n",
      "00203001010000083858 : {'receptor': '3101703823', 'moneda': 'CRC', 'ventaneta': 17500.0, 'impuesto': 2275.0, 'comprobante': 19775.0}\n",
      "00100006010000000055 : {'receptor': '123456758', 'moneda': 'CRC', 'ventaneta': 900.0, 'impuesto': 27.0, 'comprobante': 927.0}\n",
      "00100006010000000023 : {'receptor': '100445566', 'moneda': 'CRC', 'ventaneta': 13893.805, 'impuesto': 706.195, 'comprobante': 14600.0}\n",
      "00100001010000001497 : {'receptor': '3101703841', 'moneda': 'USD', 'ventaneta': 183.15, 'impuesto': 23.8095, 'comprobante': 206.9595}\n",
      "00100001010000001498 : {'receptor': '3101703841', 'moneda': 'USD', 'ventaneta': 87.5, 'impuesto': 11.375, 'comprobante': 98.875}\n",
      "00100001010000001500 : {'receptor': '3101703841', 'moneda': 'USD', 'ventaneta': 52.5, 'impuesto': 6.825, 'comprobante': 59.325}\n",
      "None\n"
     ]
    }
   ],
   "source": [
    "print(resultados_xml(failed, unmatched, repeated, read, invoices))"
   ]
  },
  {
   "cell_type": "code",
   "execution_count": 86,
   "metadata": {},
   "outputs": [
    {
     "name": "stdout",
     "output_type": "stream",
     "text": [
      "- - - ALL XMLs HAS BEEN READ AND LOADED INTO CURRENT PROCESS - - -\n",
      "\n",
      "\n"
     ]
    }
   ],
   "source": [
    "print(\"- - - ALL XMLs HAS BEEN READ AND LOADED INTO CURRENT PROCESS - - -\\n\\n\")"
   ]
  },
  {
   "cell_type": "code",
   "execution_count": 87,
   "metadata": {},
   "outputs": [
    {
     "name": "stdout",
     "output_type": "stream",
     "text": [
      "- - - STARTING NARET'S EXPENSES VALIDATION AGAINST PROCESSED XMLs - - -\n",
      "\n",
      "\n"
     ]
    }
   ],
   "source": [
    "print(\"- - - STARTING NARET'S EXPENSES VALIDATION AGAINST PROCESSED XMLs - - -\\n\\n\")"
   ]
  },
  {
   "cell_type": "markdown",
   "metadata": {},
   "source": [
    "##### ACA INICIA EL PROCESAMIENTO DE LOS DETALLES DE GASTOS DE CADA LIQUIDACION (respaldos en cada capeta de usuario) "
   ]
  },
  {
   "cell_type": "markdown",
   "metadata": {},
   "source": [
    "#### Esto es una lista de listas, con elementos por cada liquidacion que leyó; lo que se hace en el paso siguiente es tomar esa lista de listas y extraer todos los elementos para ponerlos todos en una única lista con la info de cada línea como elemento"
   ]
  },
  {
   "cell_type": "code",
   "execution_count": 88,
   "metadata": {},
   "outputs": [
    {
     "name": "stdout",
     "output_type": "stream",
     "text": [
      "[[['4116110005410089', '00100006010000000079', 1528148.5, None, 'CRC'], ['4116110005410089', '00100001010000205641', 39316.33, None, 'CRC'], ['4116110005410089', '00100024010010275938', 168722.88, None, 'CRC'], ['4116110005410089', '00203001010000083858', 19774, None, 'CRC'], ['4116110005410089', 44018, 0.1, None, 'CRC'], ['4116110005410089', 'BLANK', 0.2, None, 'CRC'], ['4116110005410089', '00300003010000094035', None, 273, 'USD'], ['4116110005410089', None, None, None, None], ['4116110005410089', None, None, None, None], ['4116110005410089', None, None, None, None], ['4116110005410089', None, None, None, None], ['4116110005410089', None, None, None, None], ['4116110005410089', None, None, None, None], ['4116110005410089', None, None, None, None], ['4116110005410089', None, None, None, None], ['4116110005410089', None, None, None, None]], [['4116110005410154', '00100006010000000055', 927, None, 'CRC'], ['4116110005410154', '00100006010000000023', 14600, None, 'CRC'], ['4116110005410154', None, None, None, None], ['4116110005410154', None, None, None, None], ['4116110005410154', None, None, None, None], ['4116110005410154', None, None, None, None], ['4116110005410154', None, None, None, None], ['4116110005410154', None, None, None, None], ['4116110005410154', None, None, None, None], ['4116110005410154', None, None, None, None], ['4116110005410154', None, None, None, None], ['4116110005410154', None, None, None, None], ['4116110005410154', None, None, None, None], ['4116110005410154', None, None, None, None], ['4116110005410154', None, None, None, None], ['4116110005410154', None, None, None, None], ['4116110005410154', None, None, None, None], ['4116110005410154', None, None, None, None]], [['4116110005410154', '00100001010000001500', None, 59.325, 'USD'], ['4116110005410154', '00100001010000001498', None, 98.875, 'USD'], ['4116110005410154', '00100001010000001497', None, 59.325, 'USD'], ['4116110005410154', None, None, None, None], ['4116110005410154', None, None, None, None], ['4116110005410154', None, None, None, None], ['4116110005410154', None, None, None, None], ['4116110005410154', None, None, None, None], ['4116110005410154', None, None, None, None], ['4116110005410154', None, None, None, None], ['4116110005410154', None, None, None, None], ['4116110005410154', None, None, None, None], ['4116110005410154', None, None, None, None], ['4116110005410154', None, None, None, None], ['4116110005410154', None, None, None, None], ['4116110005410154', None, None, None, None], ['4116110005410154', None, None, None, None], ['4116110005410154', None, None, None, None]]]\n"
     ]
    }
   ],
   "source": [
    "print(prev_inv_liq)"
   ]
  },
  {
   "cell_type": "code",
   "execution_count": 89,
   "metadata": {},
   "outputs": [],
   "source": [
    "for l in range(len(prev_inv_liq)):\n",
    "    slices = len(prev_inv_liq[l])\n",
    "    for s in range(slices):\n",
    "        inv_liq.append(prev_inv_liq[l][s])\n",
    "#inv_liq"
   ]
  },
  {
   "cell_type": "code",
   "execution_count": 90,
   "metadata": {},
   "outputs": [
    {
     "name": "stdout",
     "output_type": "stream",
     "text": [
      "[['4116110005410089', '00100006010000000079', 1528148.5, None, 'CRC'], ['4116110005410089', '00100001010000205641', 39316.33, None, 'CRC'], ['4116110005410089', '00100024010010275938', 168722.88, None, 'CRC'], ['4116110005410089', '00203001010000083858', 19774, None, 'CRC'], ['4116110005410089', 44018, 0.1, None, 'CRC'], ['4116110005410089', 'BLANK', 0.2, None, 'CRC'], ['4116110005410089', '00300003010000094035', None, 273, 'USD'], ['4116110005410089', None, None, None, None], ['4116110005410089', None, None, None, None], ['4116110005410089', None, None, None, None], ['4116110005410089', None, None, None, None], ['4116110005410089', None, None, None, None], ['4116110005410089', None, None, None, None], ['4116110005410089', None, None, None, None], ['4116110005410089', None, None, None, None], ['4116110005410089', None, None, None, None], ['4116110005410154', '00100006010000000055', 927, None, 'CRC'], ['4116110005410154', '00100006010000000023', 14600, None, 'CRC'], ['4116110005410154', None, None, None, None], ['4116110005410154', None, None, None, None], ['4116110005410154', None, None, None, None], ['4116110005410154', None, None, None, None], ['4116110005410154', None, None, None, None], ['4116110005410154', None, None, None, None], ['4116110005410154', None, None, None, None], ['4116110005410154', None, None, None, None], ['4116110005410154', None, None, None, None], ['4116110005410154', None, None, None, None], ['4116110005410154', None, None, None, None], ['4116110005410154', None, None, None, None], ['4116110005410154', None, None, None, None], ['4116110005410154', None, None, None, None], ['4116110005410154', None, None, None, None], ['4116110005410154', None, None, None, None], ['4116110005410154', '00100001010000001500', None, 59.325, 'USD'], ['4116110005410154', '00100001010000001498', None, 98.875, 'USD'], ['4116110005410154', '00100001010000001497', None, 59.325, 'USD'], ['4116110005410154', None, None, None, None], ['4116110005410154', None, None, None, None], ['4116110005410154', None, None, None, None], ['4116110005410154', None, None, None, None], ['4116110005410154', None, None, None, None], ['4116110005410154', None, None, None, None], ['4116110005410154', None, None, None, None], ['4116110005410154', None, None, None, None], ['4116110005410154', None, None, None, None], ['4116110005410154', None, None, None, None], ['4116110005410154', None, None, None, None], ['4116110005410154', None, None, None, None], ['4116110005410154', None, None, None, None], ['4116110005410154', None, None, None, None], ['4116110005410154', None, None, None, None]]\n"
     ]
    }
   ],
   "source": [
    "print(inv_liq)"
   ]
  },
  {
   "cell_type": "code",
   "execution_count": 91,
   "metadata": {},
   "outputs": [],
   "source": [
    "#inv_liq = detalle_gasto('C:\\\\Users\\\\HPC\\\\Documents\\\\Condominios\\\\NARET\\\\Paco\\\\Julio 2020\\\\Gastos tarjeta de credito\\\\LiquidacionTarjeta.xlsm', 'DETALLE')"
   ]
  },
  {
   "cell_type": "code",
   "execution_count": 92,
   "metadata": {},
   "outputs": [],
   "source": [
    "inv = pd.DataFrame(inv_liq, columns=['cardNumber', 'invID', 'liqCRC', 'liqUSD', 'liqMoneda'])\n",
    "#inv"
   ]
  },
  {
   "cell_type": "code",
   "execution_count": 93,
   "metadata": {},
   "outputs": [],
   "source": [
    "filt = inv['liqMoneda'].isnull()\n",
    "#filt"
   ]
  },
  {
   "cell_type": "code",
   "execution_count": 94,
   "metadata": {},
   "outputs": [],
   "source": [
    "df_inv = pd.DataFrame(inv.loc[~filt])"
   ]
  },
  {
   "cell_type": "code",
   "execution_count": 95,
   "metadata": {},
   "outputs": [
    {
     "data": {
      "text/html": [
       "<div>\n",
       "<style scoped>\n",
       "    .dataframe tbody tr th:only-of-type {\n",
       "        vertical-align: middle;\n",
       "    }\n",
       "\n",
       "    .dataframe tbody tr th {\n",
       "        vertical-align: top;\n",
       "    }\n",
       "\n",
       "    .dataframe thead th {\n",
       "        text-align: right;\n",
       "    }\n",
       "</style>\n",
       "<table border=\"1\" class=\"dataframe\">\n",
       "  <thead>\n",
       "    <tr style=\"text-align: right;\">\n",
       "      <th></th>\n",
       "      <th>cardNumber</th>\n",
       "      <th>invID</th>\n",
       "      <th>liqCRC</th>\n",
       "      <th>liqUSD</th>\n",
       "      <th>liqMoneda</th>\n",
       "    </tr>\n",
       "  </thead>\n",
       "  <tbody>\n",
       "    <tr>\n",
       "      <th>0</th>\n",
       "      <td>4116110005410089</td>\n",
       "      <td>00100006010000000079</td>\n",
       "      <td>1528148.50</td>\n",
       "      <td>NaN</td>\n",
       "      <td>CRC</td>\n",
       "    </tr>\n",
       "    <tr>\n",
       "      <th>1</th>\n",
       "      <td>4116110005410089</td>\n",
       "      <td>00100001010000205641</td>\n",
       "      <td>39316.33</td>\n",
       "      <td>NaN</td>\n",
       "      <td>CRC</td>\n",
       "    </tr>\n",
       "    <tr>\n",
       "      <th>2</th>\n",
       "      <td>4116110005410089</td>\n",
       "      <td>00100024010010275938</td>\n",
       "      <td>168722.88</td>\n",
       "      <td>NaN</td>\n",
       "      <td>CRC</td>\n",
       "    </tr>\n",
       "    <tr>\n",
       "      <th>3</th>\n",
       "      <td>4116110005410089</td>\n",
       "      <td>00203001010000083858</td>\n",
       "      <td>19774.00</td>\n",
       "      <td>NaN</td>\n",
       "      <td>CRC</td>\n",
       "    </tr>\n",
       "    <tr>\n",
       "      <th>4</th>\n",
       "      <td>4116110005410089</td>\n",
       "      <td>44018</td>\n",
       "      <td>0.10</td>\n",
       "      <td>NaN</td>\n",
       "      <td>CRC</td>\n",
       "    </tr>\n",
       "    <tr>\n",
       "      <th>5</th>\n",
       "      <td>4116110005410089</td>\n",
       "      <td>BLANK</td>\n",
       "      <td>0.20</td>\n",
       "      <td>NaN</td>\n",
       "      <td>CRC</td>\n",
       "    </tr>\n",
       "    <tr>\n",
       "      <th>6</th>\n",
       "      <td>4116110005410089</td>\n",
       "      <td>00300003010000094035</td>\n",
       "      <td>NaN</td>\n",
       "      <td>273.000</td>\n",
       "      <td>USD</td>\n",
       "    </tr>\n",
       "    <tr>\n",
       "      <th>7</th>\n",
       "      <td>4116110005410089</td>\n",
       "      <td>None</td>\n",
       "      <td>NaN</td>\n",
       "      <td>NaN</td>\n",
       "      <td>None</td>\n",
       "    </tr>\n",
       "    <tr>\n",
       "      <th>8</th>\n",
       "      <td>4116110005410089</td>\n",
       "      <td>None</td>\n",
       "      <td>NaN</td>\n",
       "      <td>NaN</td>\n",
       "      <td>None</td>\n",
       "    </tr>\n",
       "    <tr>\n",
       "      <th>9</th>\n",
       "      <td>4116110005410089</td>\n",
       "      <td>None</td>\n",
       "      <td>NaN</td>\n",
       "      <td>NaN</td>\n",
       "      <td>None</td>\n",
       "    </tr>\n",
       "    <tr>\n",
       "      <th>10</th>\n",
       "      <td>4116110005410089</td>\n",
       "      <td>None</td>\n",
       "      <td>NaN</td>\n",
       "      <td>NaN</td>\n",
       "      <td>None</td>\n",
       "    </tr>\n",
       "    <tr>\n",
       "      <th>11</th>\n",
       "      <td>4116110005410089</td>\n",
       "      <td>None</td>\n",
       "      <td>NaN</td>\n",
       "      <td>NaN</td>\n",
       "      <td>None</td>\n",
       "    </tr>\n",
       "    <tr>\n",
       "      <th>12</th>\n",
       "      <td>4116110005410089</td>\n",
       "      <td>None</td>\n",
       "      <td>NaN</td>\n",
       "      <td>NaN</td>\n",
       "      <td>None</td>\n",
       "    </tr>\n",
       "    <tr>\n",
       "      <th>13</th>\n",
       "      <td>4116110005410089</td>\n",
       "      <td>None</td>\n",
       "      <td>NaN</td>\n",
       "      <td>NaN</td>\n",
       "      <td>None</td>\n",
       "    </tr>\n",
       "    <tr>\n",
       "      <th>14</th>\n",
       "      <td>4116110005410089</td>\n",
       "      <td>None</td>\n",
       "      <td>NaN</td>\n",
       "      <td>NaN</td>\n",
       "      <td>None</td>\n",
       "    </tr>\n",
       "    <tr>\n",
       "      <th>15</th>\n",
       "      <td>4116110005410089</td>\n",
       "      <td>None</td>\n",
       "      <td>NaN</td>\n",
       "      <td>NaN</td>\n",
       "      <td>None</td>\n",
       "    </tr>\n",
       "    <tr>\n",
       "      <th>16</th>\n",
       "      <td>4116110005410154</td>\n",
       "      <td>00100006010000000055</td>\n",
       "      <td>927.00</td>\n",
       "      <td>NaN</td>\n",
       "      <td>CRC</td>\n",
       "    </tr>\n",
       "    <tr>\n",
       "      <th>17</th>\n",
       "      <td>4116110005410154</td>\n",
       "      <td>00100006010000000023</td>\n",
       "      <td>14600.00</td>\n",
       "      <td>NaN</td>\n",
       "      <td>CRC</td>\n",
       "    </tr>\n",
       "    <tr>\n",
       "      <th>18</th>\n",
       "      <td>4116110005410154</td>\n",
       "      <td>None</td>\n",
       "      <td>NaN</td>\n",
       "      <td>NaN</td>\n",
       "      <td>None</td>\n",
       "    </tr>\n",
       "    <tr>\n",
       "      <th>19</th>\n",
       "      <td>4116110005410154</td>\n",
       "      <td>None</td>\n",
       "      <td>NaN</td>\n",
       "      <td>NaN</td>\n",
       "      <td>None</td>\n",
       "    </tr>\n",
       "    <tr>\n",
       "      <th>20</th>\n",
       "      <td>4116110005410154</td>\n",
       "      <td>None</td>\n",
       "      <td>NaN</td>\n",
       "      <td>NaN</td>\n",
       "      <td>None</td>\n",
       "    </tr>\n",
       "    <tr>\n",
       "      <th>21</th>\n",
       "      <td>4116110005410154</td>\n",
       "      <td>None</td>\n",
       "      <td>NaN</td>\n",
       "      <td>NaN</td>\n",
       "      <td>None</td>\n",
       "    </tr>\n",
       "    <tr>\n",
       "      <th>22</th>\n",
       "      <td>4116110005410154</td>\n",
       "      <td>None</td>\n",
       "      <td>NaN</td>\n",
       "      <td>NaN</td>\n",
       "      <td>None</td>\n",
       "    </tr>\n",
       "    <tr>\n",
       "      <th>23</th>\n",
       "      <td>4116110005410154</td>\n",
       "      <td>None</td>\n",
       "      <td>NaN</td>\n",
       "      <td>NaN</td>\n",
       "      <td>None</td>\n",
       "    </tr>\n",
       "    <tr>\n",
       "      <th>24</th>\n",
       "      <td>4116110005410154</td>\n",
       "      <td>None</td>\n",
       "      <td>NaN</td>\n",
       "      <td>NaN</td>\n",
       "      <td>None</td>\n",
       "    </tr>\n",
       "    <tr>\n",
       "      <th>25</th>\n",
       "      <td>4116110005410154</td>\n",
       "      <td>None</td>\n",
       "      <td>NaN</td>\n",
       "      <td>NaN</td>\n",
       "      <td>None</td>\n",
       "    </tr>\n",
       "    <tr>\n",
       "      <th>26</th>\n",
       "      <td>4116110005410154</td>\n",
       "      <td>None</td>\n",
       "      <td>NaN</td>\n",
       "      <td>NaN</td>\n",
       "      <td>None</td>\n",
       "    </tr>\n",
       "    <tr>\n",
       "      <th>27</th>\n",
       "      <td>4116110005410154</td>\n",
       "      <td>None</td>\n",
       "      <td>NaN</td>\n",
       "      <td>NaN</td>\n",
       "      <td>None</td>\n",
       "    </tr>\n",
       "    <tr>\n",
       "      <th>28</th>\n",
       "      <td>4116110005410154</td>\n",
       "      <td>None</td>\n",
       "      <td>NaN</td>\n",
       "      <td>NaN</td>\n",
       "      <td>None</td>\n",
       "    </tr>\n",
       "    <tr>\n",
       "      <th>29</th>\n",
       "      <td>4116110005410154</td>\n",
       "      <td>None</td>\n",
       "      <td>NaN</td>\n",
       "      <td>NaN</td>\n",
       "      <td>None</td>\n",
       "    </tr>\n",
       "    <tr>\n",
       "      <th>30</th>\n",
       "      <td>4116110005410154</td>\n",
       "      <td>None</td>\n",
       "      <td>NaN</td>\n",
       "      <td>NaN</td>\n",
       "      <td>None</td>\n",
       "    </tr>\n",
       "    <tr>\n",
       "      <th>31</th>\n",
       "      <td>4116110005410154</td>\n",
       "      <td>None</td>\n",
       "      <td>NaN</td>\n",
       "      <td>NaN</td>\n",
       "      <td>None</td>\n",
       "    </tr>\n",
       "    <tr>\n",
       "      <th>32</th>\n",
       "      <td>4116110005410154</td>\n",
       "      <td>None</td>\n",
       "      <td>NaN</td>\n",
       "      <td>NaN</td>\n",
       "      <td>None</td>\n",
       "    </tr>\n",
       "    <tr>\n",
       "      <th>33</th>\n",
       "      <td>4116110005410154</td>\n",
       "      <td>None</td>\n",
       "      <td>NaN</td>\n",
       "      <td>NaN</td>\n",
       "      <td>None</td>\n",
       "    </tr>\n",
       "    <tr>\n",
       "      <th>34</th>\n",
       "      <td>4116110005410154</td>\n",
       "      <td>00100001010000001500</td>\n",
       "      <td>NaN</td>\n",
       "      <td>59.325</td>\n",
       "      <td>USD</td>\n",
       "    </tr>\n",
       "    <tr>\n",
       "      <th>35</th>\n",
       "      <td>4116110005410154</td>\n",
       "      <td>00100001010000001498</td>\n",
       "      <td>NaN</td>\n",
       "      <td>98.875</td>\n",
       "      <td>USD</td>\n",
       "    </tr>\n",
       "    <tr>\n",
       "      <th>36</th>\n",
       "      <td>4116110005410154</td>\n",
       "      <td>00100001010000001497</td>\n",
       "      <td>NaN</td>\n",
       "      <td>59.325</td>\n",
       "      <td>USD</td>\n",
       "    </tr>\n",
       "    <tr>\n",
       "      <th>37</th>\n",
       "      <td>4116110005410154</td>\n",
       "      <td>None</td>\n",
       "      <td>NaN</td>\n",
       "      <td>NaN</td>\n",
       "      <td>None</td>\n",
       "    </tr>\n",
       "    <tr>\n",
       "      <th>38</th>\n",
       "      <td>4116110005410154</td>\n",
       "      <td>None</td>\n",
       "      <td>NaN</td>\n",
       "      <td>NaN</td>\n",
       "      <td>None</td>\n",
       "    </tr>\n",
       "    <tr>\n",
       "      <th>39</th>\n",
       "      <td>4116110005410154</td>\n",
       "      <td>None</td>\n",
       "      <td>NaN</td>\n",
       "      <td>NaN</td>\n",
       "      <td>None</td>\n",
       "    </tr>\n",
       "    <tr>\n",
       "      <th>40</th>\n",
       "      <td>4116110005410154</td>\n",
       "      <td>None</td>\n",
       "      <td>NaN</td>\n",
       "      <td>NaN</td>\n",
       "      <td>None</td>\n",
       "    </tr>\n",
       "    <tr>\n",
       "      <th>41</th>\n",
       "      <td>4116110005410154</td>\n",
       "      <td>None</td>\n",
       "      <td>NaN</td>\n",
       "      <td>NaN</td>\n",
       "      <td>None</td>\n",
       "    </tr>\n",
       "    <tr>\n",
       "      <th>42</th>\n",
       "      <td>4116110005410154</td>\n",
       "      <td>None</td>\n",
       "      <td>NaN</td>\n",
       "      <td>NaN</td>\n",
       "      <td>None</td>\n",
       "    </tr>\n",
       "    <tr>\n",
       "      <th>43</th>\n",
       "      <td>4116110005410154</td>\n",
       "      <td>None</td>\n",
       "      <td>NaN</td>\n",
       "      <td>NaN</td>\n",
       "      <td>None</td>\n",
       "    </tr>\n",
       "    <tr>\n",
       "      <th>44</th>\n",
       "      <td>4116110005410154</td>\n",
       "      <td>None</td>\n",
       "      <td>NaN</td>\n",
       "      <td>NaN</td>\n",
       "      <td>None</td>\n",
       "    </tr>\n",
       "    <tr>\n",
       "      <th>45</th>\n",
       "      <td>4116110005410154</td>\n",
       "      <td>None</td>\n",
       "      <td>NaN</td>\n",
       "      <td>NaN</td>\n",
       "      <td>None</td>\n",
       "    </tr>\n",
       "    <tr>\n",
       "      <th>46</th>\n",
       "      <td>4116110005410154</td>\n",
       "      <td>None</td>\n",
       "      <td>NaN</td>\n",
       "      <td>NaN</td>\n",
       "      <td>None</td>\n",
       "    </tr>\n",
       "    <tr>\n",
       "      <th>47</th>\n",
       "      <td>4116110005410154</td>\n",
       "      <td>None</td>\n",
       "      <td>NaN</td>\n",
       "      <td>NaN</td>\n",
       "      <td>None</td>\n",
       "    </tr>\n",
       "    <tr>\n",
       "      <th>48</th>\n",
       "      <td>4116110005410154</td>\n",
       "      <td>None</td>\n",
       "      <td>NaN</td>\n",
       "      <td>NaN</td>\n",
       "      <td>None</td>\n",
       "    </tr>\n",
       "    <tr>\n",
       "      <th>49</th>\n",
       "      <td>4116110005410154</td>\n",
       "      <td>None</td>\n",
       "      <td>NaN</td>\n",
       "      <td>NaN</td>\n",
       "      <td>None</td>\n",
       "    </tr>\n",
       "    <tr>\n",
       "      <th>50</th>\n",
       "      <td>4116110005410154</td>\n",
       "      <td>None</td>\n",
       "      <td>NaN</td>\n",
       "      <td>NaN</td>\n",
       "      <td>None</td>\n",
       "    </tr>\n",
       "    <tr>\n",
       "      <th>51</th>\n",
       "      <td>4116110005410154</td>\n",
       "      <td>None</td>\n",
       "      <td>NaN</td>\n",
       "      <td>NaN</td>\n",
       "      <td>None</td>\n",
       "    </tr>\n",
       "  </tbody>\n",
       "</table>\n",
       "</div>"
      ],
      "text/plain": [
       "          cardNumber                 invID      liqCRC   liqUSD liqMoneda\n",
       "0   4116110005410089  00100006010000000079  1528148.50      NaN       CRC\n",
       "1   4116110005410089  00100001010000205641    39316.33      NaN       CRC\n",
       "2   4116110005410089  00100024010010275938   168722.88      NaN       CRC\n",
       "3   4116110005410089  00203001010000083858    19774.00      NaN       CRC\n",
       "4   4116110005410089                 44018        0.10      NaN       CRC\n",
       "5   4116110005410089                 BLANK        0.20      NaN       CRC\n",
       "6   4116110005410089  00300003010000094035         NaN  273.000       USD\n",
       "7   4116110005410089                  None         NaN      NaN      None\n",
       "8   4116110005410089                  None         NaN      NaN      None\n",
       "9   4116110005410089                  None         NaN      NaN      None\n",
       "10  4116110005410089                  None         NaN      NaN      None\n",
       "11  4116110005410089                  None         NaN      NaN      None\n",
       "12  4116110005410089                  None         NaN      NaN      None\n",
       "13  4116110005410089                  None         NaN      NaN      None\n",
       "14  4116110005410089                  None         NaN      NaN      None\n",
       "15  4116110005410089                  None         NaN      NaN      None\n",
       "16  4116110005410154  00100006010000000055      927.00      NaN       CRC\n",
       "17  4116110005410154  00100006010000000023    14600.00      NaN       CRC\n",
       "18  4116110005410154                  None         NaN      NaN      None\n",
       "19  4116110005410154                  None         NaN      NaN      None\n",
       "20  4116110005410154                  None         NaN      NaN      None\n",
       "21  4116110005410154                  None         NaN      NaN      None\n",
       "22  4116110005410154                  None         NaN      NaN      None\n",
       "23  4116110005410154                  None         NaN      NaN      None\n",
       "24  4116110005410154                  None         NaN      NaN      None\n",
       "25  4116110005410154                  None         NaN      NaN      None\n",
       "26  4116110005410154                  None         NaN      NaN      None\n",
       "27  4116110005410154                  None         NaN      NaN      None\n",
       "28  4116110005410154                  None         NaN      NaN      None\n",
       "29  4116110005410154                  None         NaN      NaN      None\n",
       "30  4116110005410154                  None         NaN      NaN      None\n",
       "31  4116110005410154                  None         NaN      NaN      None\n",
       "32  4116110005410154                  None         NaN      NaN      None\n",
       "33  4116110005410154                  None         NaN      NaN      None\n",
       "34  4116110005410154  00100001010000001500         NaN   59.325       USD\n",
       "35  4116110005410154  00100001010000001498         NaN   98.875       USD\n",
       "36  4116110005410154  00100001010000001497         NaN   59.325       USD\n",
       "37  4116110005410154                  None         NaN      NaN      None\n",
       "38  4116110005410154                  None         NaN      NaN      None\n",
       "39  4116110005410154                  None         NaN      NaN      None\n",
       "40  4116110005410154                  None         NaN      NaN      None\n",
       "41  4116110005410154                  None         NaN      NaN      None\n",
       "42  4116110005410154                  None         NaN      NaN      None\n",
       "43  4116110005410154                  None         NaN      NaN      None\n",
       "44  4116110005410154                  None         NaN      NaN      None\n",
       "45  4116110005410154                  None         NaN      NaN      None\n",
       "46  4116110005410154                  None         NaN      NaN      None\n",
       "47  4116110005410154                  None         NaN      NaN      None\n",
       "48  4116110005410154                  None         NaN      NaN      None\n",
       "49  4116110005410154                  None         NaN      NaN      None\n",
       "50  4116110005410154                  None         NaN      NaN      None\n",
       "51  4116110005410154                  None         NaN      NaN      None"
      ]
     },
     "execution_count": 95,
     "metadata": {},
     "output_type": "execute_result"
    }
   ],
   "source": [
    "inv"
   ]
  },
  {
   "cell_type": "code",
   "execution_count": 96,
   "metadata": {},
   "outputs": [],
   "source": [
    "df_inv['liqCRC'].replace(to_replace=np.nan, value=0, inplace=True)"
   ]
  },
  {
   "cell_type": "code",
   "execution_count": 97,
   "metadata": {},
   "outputs": [],
   "source": [
    "df_inv['liqUSD'].replace(to_replace=np.nan, value=0, inplace=True)"
   ]
  },
  {
   "cell_type": "code",
   "execution_count": 98,
   "metadata": {},
   "outputs": [],
   "source": [
    "df_inv['liqMonto'] = df_inv['liqCRC'] + df_inv['liqUSD']"
   ]
  },
  {
   "cell_type": "code",
   "execution_count": 99,
   "metadata": {},
   "outputs": [],
   "source": [
    "df_inv['invID'] = df_inv['invID'].astype('str')"
   ]
  },
  {
   "cell_type": "code",
   "execution_count": 100,
   "metadata": {},
   "outputs": [],
   "source": [
    "df_inv['validinvID'] = df_inv.apply(lambda x: len(x['invID']), axis=1)"
   ]
  },
  {
   "cell_type": "code",
   "execution_count": 101,
   "metadata": {},
   "outputs": [],
   "source": [
    "filt_invID = df_inv['validinvID'] == 20\n",
    "#filt_invID"
   ]
  },
  {
   "cell_type": "code",
   "execution_count": 102,
   "metadata": {},
   "outputs": [],
   "source": [
    "df_inv_invalid = df_inv.loc[~filt_invID]"
   ]
  },
  {
   "cell_type": "code",
   "execution_count": 103,
   "metadata": {},
   "outputs": [],
   "source": [
    "df_inv_invalid.to_csv(savingfolder + '\\\\GastosErrorNumeroFactura.csv')"
   ]
  },
  {
   "cell_type": "code",
   "execution_count": 104,
   "metadata": {},
   "outputs": [],
   "source": [
    "df_inv = df_inv.loc[filt_invID]"
   ]
  },
  {
   "cell_type": "code",
   "execution_count": 105,
   "metadata": {},
   "outputs": [],
   "source": [
    "del df_inv['validinvID']"
   ]
  },
  {
   "cell_type": "code",
   "execution_count": 106,
   "metadata": {},
   "outputs": [],
   "source": [
    "df_inv.set_index('invID', inplace=True)"
   ]
  },
  {
   "cell_type": "code",
   "execution_count": 107,
   "metadata": {},
   "outputs": [],
   "source": [
    "df_inv['xmlMoneda'] = None\n",
    "df_inv['xmlMonto'] = None"
   ]
  },
  {
   "cell_type": "code",
   "execution_count": 108,
   "metadata": {},
   "outputs": [],
   "source": [
    "invids = df_inv.index.tolist()"
   ]
  },
  {
   "cell_type": "code",
   "execution_count": 109,
   "metadata": {},
   "outputs": [
    {
     "data": {
      "text/plain": [
       "['00100006010000000079',\n",
       " '00100001010000205641',\n",
       " '00100024010010275938',\n",
       " '00203001010000083858',\n",
       " '00300003010000094035',\n",
       " '00100006010000000055',\n",
       " '00100006010000000023',\n",
       " '00100001010000001500',\n",
       " '00100001010000001498',\n",
       " '00100001010000001497']"
      ]
     },
     "execution_count": 109,
     "metadata": {},
     "output_type": "execute_result"
    }
   ],
   "source": [
    "invids"
   ]
  },
  {
   "cell_type": "code",
   "execution_count": 110,
   "metadata": {},
   "outputs": [],
   "source": [
    "#df_inv"
   ]
  },
  {
   "cell_type": "code",
   "execution_count": 111,
   "metadata": {},
   "outputs": [],
   "source": [
    "for i in invids:\n",
    "    try:\n",
    "        df_inv.at[i, 'xmlMonto'] = invoices[i]['comprobante']\n",
    "        df_inv.at[i, 'xmlMoneda'] = invoices[i]['moneda']\n",
    "    except:\n",
    "        print(f'Invoice number {i} not found')\n",
    "        continue"
   ]
  },
  {
   "cell_type": "code",
   "execution_count": 112,
   "metadata": {},
   "outputs": [],
   "source": [
    "#del df_inv['liqCRC']\n",
    "#del df_inv['liqUSD']"
   ]
  },
  {
   "cell_type": "code",
   "execution_count": 113,
   "metadata": {},
   "outputs": [],
   "source": [
    "#df_inv['validated'] = None"
   ]
  },
  {
   "cell_type": "code",
   "execution_count": 114,
   "metadata": {},
   "outputs": [
    {
     "data": {
      "text/html": [
       "<div>\n",
       "<style scoped>\n",
       "    .dataframe tbody tr th:only-of-type {\n",
       "        vertical-align: middle;\n",
       "    }\n",
       "\n",
       "    .dataframe tbody tr th {\n",
       "        vertical-align: top;\n",
       "    }\n",
       "\n",
       "    .dataframe thead th {\n",
       "        text-align: right;\n",
       "    }\n",
       "</style>\n",
       "<table border=\"1\" class=\"dataframe\">\n",
       "  <thead>\n",
       "    <tr style=\"text-align: right;\">\n",
       "      <th></th>\n",
       "      <th>cardNumber</th>\n",
       "      <th>liqCRC</th>\n",
       "      <th>liqUSD</th>\n",
       "      <th>liqMoneda</th>\n",
       "      <th>liqMonto</th>\n",
       "      <th>xmlMoneda</th>\n",
       "      <th>xmlMonto</th>\n",
       "    </tr>\n",
       "    <tr>\n",
       "      <th>invID</th>\n",
       "      <th></th>\n",
       "      <th></th>\n",
       "      <th></th>\n",
       "      <th></th>\n",
       "      <th></th>\n",
       "      <th></th>\n",
       "      <th></th>\n",
       "    </tr>\n",
       "  </thead>\n",
       "  <tbody>\n",
       "    <tr>\n",
       "      <th>00100006010000000079</th>\n",
       "      <td>4116110005410089</td>\n",
       "      <td>1528148.50</td>\n",
       "      <td>0.000</td>\n",
       "      <td>CRC</td>\n",
       "      <td>1528148.500</td>\n",
       "      <td>CRC</td>\n",
       "      <td>1.52815e+06</td>\n",
       "    </tr>\n",
       "    <tr>\n",
       "      <th>00100001010000205641</th>\n",
       "      <td>4116110005410089</td>\n",
       "      <td>39316.33</td>\n",
       "      <td>0.000</td>\n",
       "      <td>CRC</td>\n",
       "      <td>39316.330</td>\n",
       "      <td>CRC</td>\n",
       "      <td>39316.3</td>\n",
       "    </tr>\n",
       "    <tr>\n",
       "      <th>00100024010010275938</th>\n",
       "      <td>4116110005410089</td>\n",
       "      <td>168722.88</td>\n",
       "      <td>0.000</td>\n",
       "      <td>CRC</td>\n",
       "      <td>168722.880</td>\n",
       "      <td>CRC</td>\n",
       "      <td>168723</td>\n",
       "    </tr>\n",
       "    <tr>\n",
       "      <th>00203001010000083858</th>\n",
       "      <td>4116110005410089</td>\n",
       "      <td>19774.00</td>\n",
       "      <td>0.000</td>\n",
       "      <td>CRC</td>\n",
       "      <td>19774.000</td>\n",
       "      <td>CRC</td>\n",
       "      <td>19775</td>\n",
       "    </tr>\n",
       "    <tr>\n",
       "      <th>00300003010000094035</th>\n",
       "      <td>4116110005410089</td>\n",
       "      <td>0.00</td>\n",
       "      <td>273.000</td>\n",
       "      <td>USD</td>\n",
       "      <td>273.000</td>\n",
       "      <td>USD</td>\n",
       "      <td>273</td>\n",
       "    </tr>\n",
       "    <tr>\n",
       "      <th>00100006010000000055</th>\n",
       "      <td>4116110005410154</td>\n",
       "      <td>927.00</td>\n",
       "      <td>0.000</td>\n",
       "      <td>CRC</td>\n",
       "      <td>927.000</td>\n",
       "      <td>CRC</td>\n",
       "      <td>927</td>\n",
       "    </tr>\n",
       "    <tr>\n",
       "      <th>00100006010000000023</th>\n",
       "      <td>4116110005410154</td>\n",
       "      <td>14600.00</td>\n",
       "      <td>0.000</td>\n",
       "      <td>CRC</td>\n",
       "      <td>14600.000</td>\n",
       "      <td>CRC</td>\n",
       "      <td>14600</td>\n",
       "    </tr>\n",
       "    <tr>\n",
       "      <th>00100001010000001500</th>\n",
       "      <td>4116110005410154</td>\n",
       "      <td>0.00</td>\n",
       "      <td>59.325</td>\n",
       "      <td>USD</td>\n",
       "      <td>59.325</td>\n",
       "      <td>USD</td>\n",
       "      <td>59.325</td>\n",
       "    </tr>\n",
       "    <tr>\n",
       "      <th>00100001010000001498</th>\n",
       "      <td>4116110005410154</td>\n",
       "      <td>0.00</td>\n",
       "      <td>98.875</td>\n",
       "      <td>USD</td>\n",
       "      <td>98.875</td>\n",
       "      <td>USD</td>\n",
       "      <td>98.875</td>\n",
       "    </tr>\n",
       "    <tr>\n",
       "      <th>00100001010000001497</th>\n",
       "      <td>4116110005410154</td>\n",
       "      <td>0.00</td>\n",
       "      <td>59.325</td>\n",
       "      <td>USD</td>\n",
       "      <td>59.325</td>\n",
       "      <td>USD</td>\n",
       "      <td>206.959</td>\n",
       "    </tr>\n",
       "  </tbody>\n",
       "</table>\n",
       "</div>"
      ],
      "text/plain": [
       "                            cardNumber      liqCRC   liqUSD liqMoneda  \\\n",
       "invID                                                                   \n",
       "00100006010000000079  4116110005410089  1528148.50    0.000       CRC   \n",
       "00100001010000205641  4116110005410089    39316.33    0.000       CRC   \n",
       "00100024010010275938  4116110005410089   168722.88    0.000       CRC   \n",
       "00203001010000083858  4116110005410089    19774.00    0.000       CRC   \n",
       "00300003010000094035  4116110005410089        0.00  273.000       USD   \n",
       "00100006010000000055  4116110005410154      927.00    0.000       CRC   \n",
       "00100006010000000023  4116110005410154    14600.00    0.000       CRC   \n",
       "00100001010000001500  4116110005410154        0.00   59.325       USD   \n",
       "00100001010000001498  4116110005410154        0.00   98.875       USD   \n",
       "00100001010000001497  4116110005410154        0.00   59.325       USD   \n",
       "\n",
       "                         liqMonto xmlMoneda     xmlMonto  \n",
       "invID                                                     \n",
       "00100006010000000079  1528148.500       CRC  1.52815e+06  \n",
       "00100001010000205641    39316.330       CRC      39316.3  \n",
       "00100024010010275938   168722.880       CRC       168723  \n",
       "00203001010000083858    19774.000       CRC        19775  \n",
       "00300003010000094035      273.000       USD          273  \n",
       "00100006010000000055      927.000       CRC          927  \n",
       "00100006010000000023    14600.000       CRC        14600  \n",
       "00100001010000001500       59.325       USD       59.325  \n",
       "00100001010000001498       98.875       USD       98.875  \n",
       "00100001010000001497       59.325       USD      206.959  "
      ]
     },
     "execution_count": 114,
     "metadata": {},
     "output_type": "execute_result"
    }
   ],
   "source": [
    "df_inv"
   ]
  },
  {
   "cell_type": "code",
   "execution_count": 115,
   "metadata": {},
   "outputs": [
    {
     "data": {
      "text/html": [
       "<div>\n",
       "<style scoped>\n",
       "    .dataframe tbody tr th:only-of-type {\n",
       "        vertical-align: middle;\n",
       "    }\n",
       "\n",
       "    .dataframe tbody tr th {\n",
       "        vertical-align: top;\n",
       "    }\n",
       "\n",
       "    .dataframe thead th {\n",
       "        text-align: right;\n",
       "    }\n",
       "</style>\n",
       "<table border=\"1\" class=\"dataframe\">\n",
       "  <thead>\n",
       "    <tr style=\"text-align: right;\">\n",
       "      <th></th>\n",
       "      <th>cardNumber</th>\n",
       "      <th>liqCRC</th>\n",
       "      <th>liqUSD</th>\n",
       "      <th>liqMoneda</th>\n",
       "      <th>liqMonto</th>\n",
       "      <th>xmlMoneda</th>\n",
       "      <th>xmlMonto</th>\n",
       "      <th>validada</th>\n",
       "    </tr>\n",
       "    <tr>\n",
       "      <th>invID</th>\n",
       "      <th></th>\n",
       "      <th></th>\n",
       "      <th></th>\n",
       "      <th></th>\n",
       "      <th></th>\n",
       "      <th></th>\n",
       "      <th></th>\n",
       "      <th></th>\n",
       "    </tr>\n",
       "  </thead>\n",
       "  <tbody>\n",
       "    <tr>\n",
       "      <th>00100006010000000079</th>\n",
       "      <td>4116110005410089</td>\n",
       "      <td>1528148.50</td>\n",
       "      <td>0.000</td>\n",
       "      <td>CRC</td>\n",
       "      <td>1528148.500</td>\n",
       "      <td>CRC</td>\n",
       "      <td>1.52815e+06</td>\n",
       "      <td>False</td>\n",
       "    </tr>\n",
       "    <tr>\n",
       "      <th>00100001010000205641</th>\n",
       "      <td>4116110005410089</td>\n",
       "      <td>39316.33</td>\n",
       "      <td>0.000</td>\n",
       "      <td>CRC</td>\n",
       "      <td>39316.330</td>\n",
       "      <td>CRC</td>\n",
       "      <td>39316.3</td>\n",
       "      <td>True</td>\n",
       "    </tr>\n",
       "    <tr>\n",
       "      <th>00100024010010275938</th>\n",
       "      <td>4116110005410089</td>\n",
       "      <td>168722.88</td>\n",
       "      <td>0.000</td>\n",
       "      <td>CRC</td>\n",
       "      <td>168722.880</td>\n",
       "      <td>CRC</td>\n",
       "      <td>168723</td>\n",
       "      <td>True</td>\n",
       "    </tr>\n",
       "    <tr>\n",
       "      <th>00203001010000083858</th>\n",
       "      <td>4116110005410089</td>\n",
       "      <td>19774.00</td>\n",
       "      <td>0.000</td>\n",
       "      <td>CRC</td>\n",
       "      <td>19774.000</td>\n",
       "      <td>CRC</td>\n",
       "      <td>19775</td>\n",
       "      <td>False</td>\n",
       "    </tr>\n",
       "    <tr>\n",
       "      <th>00300003010000094035</th>\n",
       "      <td>4116110005410089</td>\n",
       "      <td>0.00</td>\n",
       "      <td>273.000</td>\n",
       "      <td>USD</td>\n",
       "      <td>273.000</td>\n",
       "      <td>USD</td>\n",
       "      <td>273</td>\n",
       "      <td>True</td>\n",
       "    </tr>\n",
       "    <tr>\n",
       "      <th>00100006010000000055</th>\n",
       "      <td>4116110005410154</td>\n",
       "      <td>927.00</td>\n",
       "      <td>0.000</td>\n",
       "      <td>CRC</td>\n",
       "      <td>927.000</td>\n",
       "      <td>CRC</td>\n",
       "      <td>927</td>\n",
       "      <td>True</td>\n",
       "    </tr>\n",
       "    <tr>\n",
       "      <th>00100006010000000023</th>\n",
       "      <td>4116110005410154</td>\n",
       "      <td>14600.00</td>\n",
       "      <td>0.000</td>\n",
       "      <td>CRC</td>\n",
       "      <td>14600.000</td>\n",
       "      <td>CRC</td>\n",
       "      <td>14600</td>\n",
       "      <td>True</td>\n",
       "    </tr>\n",
       "    <tr>\n",
       "      <th>00100001010000001500</th>\n",
       "      <td>4116110005410154</td>\n",
       "      <td>0.00</td>\n",
       "      <td>59.325</td>\n",
       "      <td>USD</td>\n",
       "      <td>59.325</td>\n",
       "      <td>USD</td>\n",
       "      <td>59.325</td>\n",
       "      <td>True</td>\n",
       "    </tr>\n",
       "    <tr>\n",
       "      <th>00100001010000001498</th>\n",
       "      <td>4116110005410154</td>\n",
       "      <td>0.00</td>\n",
       "      <td>98.875</td>\n",
       "      <td>USD</td>\n",
       "      <td>98.875</td>\n",
       "      <td>USD</td>\n",
       "      <td>98.875</td>\n",
       "      <td>True</td>\n",
       "    </tr>\n",
       "    <tr>\n",
       "      <th>00100001010000001497</th>\n",
       "      <td>4116110005410154</td>\n",
       "      <td>0.00</td>\n",
       "      <td>59.325</td>\n",
       "      <td>USD</td>\n",
       "      <td>59.325</td>\n",
       "      <td>USD</td>\n",
       "      <td>206.959</td>\n",
       "      <td>False</td>\n",
       "    </tr>\n",
       "  </tbody>\n",
       "</table>\n",
       "</div>"
      ],
      "text/plain": [
       "                            cardNumber      liqCRC   liqUSD liqMoneda  \\\n",
       "invID                                                                   \n",
       "00100006010000000079  4116110005410089  1528148.50    0.000       CRC   \n",
       "00100001010000205641  4116110005410089    39316.33    0.000       CRC   \n",
       "00100024010010275938  4116110005410089   168722.88    0.000       CRC   \n",
       "00203001010000083858  4116110005410089    19774.00    0.000       CRC   \n",
       "00300003010000094035  4116110005410089        0.00  273.000       USD   \n",
       "00100006010000000055  4116110005410154      927.00    0.000       CRC   \n",
       "00100006010000000023  4116110005410154    14600.00    0.000       CRC   \n",
       "00100001010000001500  4116110005410154        0.00   59.325       USD   \n",
       "00100001010000001498  4116110005410154        0.00   98.875       USD   \n",
       "00100001010000001497  4116110005410154        0.00   59.325       USD   \n",
       "\n",
       "                         liqMonto xmlMoneda     xmlMonto  validada  \n",
       "invID                                                               \n",
       "00100006010000000079  1528148.500       CRC  1.52815e+06     False  \n",
       "00100001010000205641    39316.330       CRC      39316.3      True  \n",
       "00100024010010275938   168722.880       CRC       168723      True  \n",
       "00203001010000083858    19774.000       CRC        19775     False  \n",
       "00300003010000094035      273.000       USD          273      True  \n",
       "00100006010000000055      927.000       CRC          927      True  \n",
       "00100006010000000023    14600.000       CRC        14600      True  \n",
       "00100001010000001500       59.325       USD       59.325      True  \n",
       "00100001010000001498       98.875       USD       98.875      True  \n",
       "00100001010000001497       59.325       USD      206.959     False  "
      ]
     },
     "execution_count": 115,
     "metadata": {},
     "output_type": "execute_result"
    }
   ],
   "source": [
    "df_inv['validada'] = df_inv.apply(lambda x: gasto_validado(x['liqMonto'], x['xmlMonto'], x['liqMoneda'], x['xmlMoneda']), axis=1)\n",
    "df_inv"
   ]
  },
  {
   "cell_type": "code",
   "execution_count": 116,
   "metadata": {},
   "outputs": [],
   "source": [
    "validated = df_inv.index.tolist()"
   ]
  },
  {
   "cell_type": "code",
   "execution_count": 117,
   "metadata": {},
   "outputs": [],
   "source": [
    "for i in validated:\n",
    "    try:\n",
    "        invoices[i]['validada'] = True\n",
    "    except:\n",
    "        print(f\"There's no an XML for invoice {i}\")\n",
    "        continue"
   ]
  },
  {
   "cell_type": "code",
   "execution_count": 118,
   "metadata": {},
   "outputs": [],
   "source": [
    "#final_df = df_inv.groupby('cardNumber')"
   ]
  },
  {
   "cell_type": "code",
   "execution_count": 119,
   "metadata": {},
   "outputs": [],
   "source": [
    "df_inv.to_csv(savingfolder + '\\\\GastosPorFacturaValidados.csv')"
   ]
  },
  {
   "cell_type": "code",
   "execution_count": 120,
   "metadata": {},
   "outputs": [],
   "source": [
    "#invoices"
   ]
  },
  {
   "cell_type": "code",
   "execution_count": 121,
   "metadata": {},
   "outputs": [],
   "source": [
    "ventana = tkinter.Tk()\n",
    "ventana.geometry('300x100')\n",
    "ventana.title('Proccess Completed')\n",
    "\n",
    "mensaje = tkinter.Label(text='Accomplished!! See results at \"CreatedFiles\" folder')\n",
    "mensaje.grid(row=0, column=0, columnspan=True)\n",
    "\n",
    "aceptar = tkinter.Button(ventana, text='Finish', command=closewindow, padx=15, pady=5)\n",
    "aceptar.pack(side='bottom')\n",
    "\n",
    "ventana.mainloop()"
   ]
  },
  {
   "cell_type": "code",
   "execution_count": null,
   "metadata": {},
   "outputs": [],
   "source": []
  }
 ],
 "metadata": {
  "kernelspec": {
   "display_name": "Python 3.7.5 64-bit",
   "language": "python",
   "name": "python37564bit9451a87471fb44fe87e5b2a55c61f94a"
  },
  "language_info": {
   "codemirror_mode": {
    "name": "ipython",
    "version": 3
   },
   "file_extension": ".py",
   "mimetype": "text/x-python",
   "name": "python",
   "nbconvert_exporter": "python",
   "pygments_lexer": "ipython3",
   "version": "3.7.5"
  }
 },
 "nbformat": 4,
 "nbformat_minor": 4
}
